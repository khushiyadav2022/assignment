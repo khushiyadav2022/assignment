{
 "cells": [
  {
   "cell_type": "markdown",
   "id": "2e1e85b8-75b9-4e30-af5a-4bca5a7714d2",
   "metadata": {
    "tags": []
   },
   "source": [
    "# My Jupyter Notebook"
   ]
  },
  {
   "cell_type": "markdown",
   "id": "c4179346-dae9-4c50-8c2e-2093dbcd9dc3",
   "metadata": {},
   "source": [
    "__Khushi Yadav__\n",
    "\n",
    "student"
   ]
  },
  {
   "cell_type": "markdown",
   "id": "faf09b27-ed60-4545-93d2-5d1558c0f235",
   "metadata": {},
   "source": [
    "*I am intrested in data science because it helping out buisnesses to get closer to their customer to bring them effective services*"
   ]
  },
  {
   "cell_type": "markdown",
   "id": "9d777764-7032-4d5d-a39d-e058b9acdbbc",
   "metadata": {},
   "source": [
    "### Add two numbers"
   ]
  },
  {
   "cell_type": "code",
   "execution_count": 12,
   "id": "976a6c09-cadc-4915-b103-65ab15893e7c",
   "metadata": {},
   "outputs": [],
   "source": [
    "a=4\n",
    "b=6\n",
    "c=a+b"
   ]
  },
  {
   "cell_type": "code",
   "execution_count": 13,
   "id": "d8ee3e32-825c-4089-bb2e-a1d522f8b815",
   "metadata": {},
   "outputs": [
    {
     "data": {
      "text/plain": [
       "10"
      ]
     },
     "execution_count": 13,
     "metadata": {},
     "output_type": "execute_result"
    }
   ],
   "source": [
    "c"
   ]
  },
  {
   "cell_type": "markdown",
   "id": "c5119335-49b2-4d26-876e-436c3e3db054",
   "metadata": {},
   "source": [
    "#### Show- heading, bullet, color, link\n",
    "\n",
    "1. heading1\n",
    "2. heading2\n",
    "\n",
    "- bullet1\n",
    "- bullet2\n",
    "\n",
    "<font color=yellow>Front color is yellow</font>\n",
    "\n",
    "[click here to Google](https://www.google.com/)"
   ]
  },
  {
   "cell_type": "code",
   "execution_count": null,
   "id": "09c92f14-c1c5-4d70-b2b4-88549c8f8fe8",
   "metadata": {},
   "outputs": [],
   "source": []
  }
 ],
 "metadata": {
  "kernelspec": {
   "display_name": "Python",
   "language": "python",
   "name": "conda-env-python-py"
  },
  "language_info": {
   "codemirror_mode": {
    "name": "ipython",
    "version": 3
   },
   "file_extension": ".py",
   "mimetype": "text/x-python",
   "name": "python",
   "nbconvert_exporter": "python",
   "pygments_lexer": "ipython3",
   "version": "3.7.12"
  }
 },
 "nbformat": 4,
 "nbformat_minor": 5
}
